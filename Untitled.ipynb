{
 "cells": [
  {
   "cell_type": "code",
   "execution_count": 68,
   "id": "11a19b86",
   "metadata": {},
   "outputs": [],
   "source": [
    "import pandas as pd\n",
    "df=pd.read_csv(\"Pune_rent.csv\")"
   ]
  },
  {
   "cell_type": "code",
   "execution_count": 69,
   "id": "add07636",
   "metadata": {
    "scrolled": true
   },
   "outputs": [
    {
     "data": {
      "text/html": [
       "<div>\n",
       "<style scoped>\n",
       "    .dataframe tbody tr th:only-of-type {\n",
       "        vertical-align: middle;\n",
       "    }\n",
       "\n",
       "    .dataframe tbody tr th {\n",
       "        vertical-align: top;\n",
       "    }\n",
       "\n",
       "    .dataframe thead th {\n",
       "        text-align: right;\n",
       "    }\n",
       "</style>\n",
       "<table border=\"1\" class=\"dataframe\">\n",
       "  <thead>\n",
       "    <tr style=\"text-align: right;\">\n",
       "      <th></th>\n",
       "      <th>seller_type</th>\n",
       "      <th>bedroom</th>\n",
       "      <th>layout_type</th>\n",
       "      <th>property_type</th>\n",
       "      <th>locality</th>\n",
       "      <th>price</th>\n",
       "      <th>area</th>\n",
       "      <th>furnish_type</th>\n",
       "      <th>bathroom</th>\n",
       "    </tr>\n",
       "  </thead>\n",
       "  <tbody>\n",
       "    <tr>\n",
       "      <th>0</th>\n",
       "      <td>OWNER</td>\n",
       "      <td>1</td>\n",
       "      <td>BHK</td>\n",
       "      <td>Independent Floor</td>\n",
       "      <td>Mundhwa</td>\n",
       "      <td>6,750</td>\n",
       "      <td>450</td>\n",
       "      <td>Unfurnished</td>\n",
       "      <td>1</td>\n",
       "    </tr>\n",
       "    <tr>\n",
       "      <th>1</th>\n",
       "      <td>OWNER</td>\n",
       "      <td>2</td>\n",
       "      <td>BHK</td>\n",
       "      <td>Apartment</td>\n",
       "      <td>Wakad</td>\n",
       "      <td>18,000</td>\n",
       "      <td>916</td>\n",
       "      <td>Unfurnished</td>\n",
       "      <td>2</td>\n",
       "    </tr>\n",
       "    <tr>\n",
       "      <th>2</th>\n",
       "      <td>OWNER</td>\n",
       "      <td>3</td>\n",
       "      <td>BHK</td>\n",
       "      <td>Apartment</td>\n",
       "      <td>Wagholi</td>\n",
       "      <td>16,500</td>\n",
       "      <td>1085</td>\n",
       "      <td>Semi-Furnished</td>\n",
       "      <td>3</td>\n",
       "    </tr>\n",
       "    <tr>\n",
       "      <th>3</th>\n",
       "      <td>OWNER</td>\n",
       "      <td>1</td>\n",
       "      <td>RK</td>\n",
       "      <td>Studio Apartment</td>\n",
       "      <td>Kothrud</td>\n",
       "      <td>8,000</td>\n",
       "      <td>250</td>\n",
       "      <td>Furnished</td>\n",
       "      <td>1</td>\n",
       "    </tr>\n",
       "    <tr>\n",
       "      <th>4</th>\n",
       "      <td>OWNER</td>\n",
       "      <td>2</td>\n",
       "      <td>BHK</td>\n",
       "      <td>Apartment</td>\n",
       "      <td>Yerawada</td>\n",
       "      <td>25,000</td>\n",
       "      <td>1005</td>\n",
       "      <td>Semi-Furnished</td>\n",
       "      <td>2</td>\n",
       "    </tr>\n",
       "  </tbody>\n",
       "</table>\n",
       "</div>"
      ],
      "text/plain": [
       "  seller_type  bedroom layout_type      property_type  locality   price  area  \\\n",
       "0       OWNER        1         BHK  Independent Floor   Mundhwa   6,750   450   \n",
       "1       OWNER        2         BHK          Apartment     Wakad  18,000   916   \n",
       "2       OWNER        3         BHK          Apartment   Wagholi  16,500  1085   \n",
       "3       OWNER        1          RK   Studio Apartment   Kothrud   8,000   250   \n",
       "4       OWNER        2         BHK          Apartment  Yerawada  25,000  1005   \n",
       "\n",
       "     furnish_type bathroom  \n",
       "0     Unfurnished        1  \n",
       "1     Unfurnished        2  \n",
       "2  Semi-Furnished        3  \n",
       "3       Furnished        1  \n",
       "4  Semi-Furnished        2  "
      ]
     },
     "execution_count": 69,
     "metadata": {},
     "output_type": "execute_result"
    }
   ],
   "source": [
    "df.head()"
   ]
  },
  {
   "cell_type": "code",
   "execution_count": 70,
   "id": "a66457d4",
   "metadata": {
    "scrolled": true
   },
   "outputs": [
    {
     "name": "stdout",
     "output_type": "stream",
     "text": [
      "<class 'pandas.core.frame.DataFrame'>\n",
      "RangeIndex: 22800 entries, 0 to 22799\n",
      "Data columns (total 9 columns):\n",
      " #   Column         Non-Null Count  Dtype \n",
      "---  ------         --------------  ----- \n",
      " 0   seller_type    22800 non-null  object\n",
      " 1   bedroom        22800 non-null  int64 \n",
      " 2   layout_type    22800 non-null  object\n",
      " 3   property_type  22800 non-null  object\n",
      " 4   locality       22800 non-null  object\n",
      " 5   price          22800 non-null  object\n",
      " 6   area           22800 non-null  int64 \n",
      " 7   furnish_type   22800 non-null  object\n",
      " 8   bathroom       22629 non-null  object\n",
      "dtypes: int64(2), object(7)\n",
      "memory usage: 1.6+ MB\n"
     ]
    }
   ],
   "source": [
    "df.info()"
   ]
  },
  {
   "cell_type": "code",
   "execution_count": 71,
   "id": "ba830aff",
   "metadata": {},
   "outputs": [
    {
     "name": "stdout",
     "output_type": "stream",
     "text": [
      "<class 'pandas.core.series.Series'>\n",
      "RangeIndex: 22800 entries, 0 to 22799\n",
      "Series name: locality\n",
      "Non-Null Count  Dtype \n",
      "--------------  ----- \n",
      "22800 non-null  object\n",
      "dtypes: object(1)\n",
      "memory usage: 178.2+ KB\n"
     ]
    }
   ],
   "source": [
    "df[\"locality\"].info()"
   ]
  },
  {
   "cell_type": "code",
   "execution_count": 72,
   "id": "1d783a6e",
   "metadata": {},
   "outputs": [
    {
     "name": "stdout",
     "output_type": "stream",
     "text": [
      "459\n"
     ]
    }
   ],
   "source": [
    "unique_count = df[\"locality\"].nunique()\n",
    "print(unique_count)"
   ]
  },
  {
   "cell_type": "code",
   "execution_count": 73,
   "id": "c4891b33",
   "metadata": {},
   "outputs": [
    {
     "data": {
      "text/plain": [
       "seller_type\n",
       "AGENT      16271\n",
       "OWNER       6097\n",
       "BUILDER      432\n",
       "Name: count, dtype: int64"
      ]
     },
     "execution_count": 73,
     "metadata": {},
     "output_type": "execute_result"
    }
   ],
   "source": [
    "df[\"seller_type\"].value_counts()"
   ]
  },
  {
   "cell_type": "code",
   "execution_count": 74,
   "id": "f2dbbc59",
   "metadata": {},
   "outputs": [
    {
     "data": {
      "text/plain": [
       "furnish_type\n",
       "Unfurnished       9872\n",
       "Semi-Furnished    8858\n",
       "Furnished         4070\n",
       "Name: count, dtype: int64"
      ]
     },
     "execution_count": 74,
     "metadata": {},
     "output_type": "execute_result"
    }
   ],
   "source": [
    "df[\"furnish_type\"].value_counts()"
   ]
  },
  {
   "cell_type": "code",
   "execution_count": 75,
   "id": "7dc36f36",
   "metadata": {},
   "outputs": [
    {
     "data": {
      "text/plain": [
       "property_type\n",
       "Apartment            20172\n",
       "Studio Apartment      1074\n",
       "Independent House      912\n",
       "Independent Floor      353\n",
       "Villa                  278\n",
       "Penthouse               11\n",
       "Name: count, dtype: int64"
      ]
     },
     "execution_count": 75,
     "metadata": {},
     "output_type": "execute_result"
    }
   ],
   "source": [
    "df[\"property_type\"].value_counts()"
   ]
  },
  {
   "cell_type": "code",
   "execution_count": 76,
   "id": "19c2e118",
   "metadata": {},
   "outputs": [
    {
     "data": {
      "text/plain": [
       "layout_type\n",
       "BHK    21726\n",
       "RK      1074\n",
       "Name: count, dtype: int64"
      ]
     },
     "execution_count": 76,
     "metadata": {},
     "output_type": "execute_result"
    }
   ],
   "source": [
    "df[\"layout_type\"].value_counts()"
   ]
  },
  {
   "cell_type": "code",
   "execution_count": 77,
   "id": "274a157b",
   "metadata": {},
   "outputs": [
    {
     "data": {
      "text/plain": [
       "True"
      ]
     },
     "execution_count": 77,
     "metadata": {},
     "output_type": "execute_result"
    }
   ],
   "source": [
    "df.isnull().values.any()"
   ]
  },
  {
   "cell_type": "code",
   "execution_count": 78,
   "id": "a5079baf",
   "metadata": {},
   "outputs": [
    {
     "data": {
      "text/plain": [
       "seller_type        0\n",
       "bedroom            0\n",
       "layout_type        0\n",
       "property_type      0\n",
       "locality           0\n",
       "price              0\n",
       "area               0\n",
       "furnish_type       0\n",
       "bathroom         171\n",
       "dtype: int64"
      ]
     },
     "execution_count": 78,
     "metadata": {},
     "output_type": "execute_result"
    }
   ],
   "source": [
    "df.isnull().sum()"
   ]
  },
  {
   "cell_type": "code",
   "execution_count": 79,
   "id": "48a345f7",
   "metadata": {},
   "outputs": [
    {
     "data": {
      "text/plain": [
       "22800"
      ]
     },
     "execution_count": 79,
     "metadata": {},
     "output_type": "execute_result"
    }
   ],
   "source": [
    "df.shape[0]"
   ]
  },
  {
   "cell_type": "code",
   "execution_count": 80,
   "id": "e46ff6c0",
   "metadata": {},
   "outputs": [],
   "source": [
    "room=df.dropna()"
   ]
  },
  {
   "cell_type": "code",
   "execution_count": 81,
   "id": "0f4ee5da",
   "metadata": {},
   "outputs": [
    {
     "data": {
      "text/plain": [
       "(22629, 9)"
      ]
     },
     "execution_count": 81,
     "metadata": {},
     "output_type": "execute_result"
    }
   ],
   "source": [
    "room.shape"
   ]
  },
  {
   "cell_type": "code",
   "execution_count": 82,
   "id": "f712652f",
   "metadata": {},
   "outputs": [],
   "source": [
    "room=room.drop([\"bathroom\"],axis=1)"
   ]
  },
  {
   "cell_type": "code",
   "execution_count": 83,
   "id": "1f695b95",
   "metadata": {},
   "outputs": [],
   "source": [
    "import pandas as pd\n",
    "import numpy as np\n",
    "\n",
    "room[\"price\"] = room[\"price\"].astype(str).str.replace(\",\", \"\", regex=False).str.strip()\n",
    "\n",
    "\n",
    "room[\"price\"] = pd.to_numeric(room[\"price\"], errors=\"coerce\")\n",
    "\n",
    "\n",
    "mask_lakh_values = room[\"price\"] < 10\n",
    "room.loc[mask_lakh_values, \"price\"] = room.loc[mask_lakh_values, \"price\"] * 100000\n",
    "\n",
    "\n",
    "room[\"price\"] = room[\"price\"].round(0).astype(\"Int64\")"
   ]
  },
  {
   "cell_type": "code",
   "execution_count": null,
   "id": "211c49de",
   "metadata": {},
   "outputs": [],
   "source": []
  },
  {
   "cell_type": "code",
   "execution_count": 84,
   "id": "7d762fa4",
   "metadata": {},
   "outputs": [
    {
     "data": {
      "text/plain": [
       "['seller_type', 'layout_type', 'property_type', 'locality', 'furnish_type']"
      ]
     },
     "execution_count": 84,
     "metadata": {},
     "output_type": "execute_result"
    }
   ],
   "source": [
    "string_col=room.select_dtypes(include=[\"object\"])\n",
    "list(string_col.columns)"
   ]
  },
  {
   "cell_type": "code",
   "execution_count": 85,
   "id": "4330ce94",
   "metadata": {},
   "outputs": [
    {
     "data": {
      "text/html": [
       "<div>\n",
       "<style scoped>\n",
       "    .dataframe tbody tr th:only-of-type {\n",
       "        vertical-align: middle;\n",
       "    }\n",
       "\n",
       "    .dataframe tbody tr th {\n",
       "        vertical-align: top;\n",
       "    }\n",
       "\n",
       "    .dataframe thead th {\n",
       "        text-align: right;\n",
       "    }\n",
       "</style>\n",
       "<table border=\"1\" class=\"dataframe\">\n",
       "  <thead>\n",
       "    <tr style=\"text-align: right;\">\n",
       "      <th></th>\n",
       "      <th>seller_type</th>\n",
       "      <th>bedroom</th>\n",
       "      <th>layout_type</th>\n",
       "      <th>property_type</th>\n",
       "      <th>locality</th>\n",
       "      <th>price</th>\n",
       "      <th>area</th>\n",
       "      <th>furnish_type</th>\n",
       "    </tr>\n",
       "  </thead>\n",
       "  <tbody>\n",
       "    <tr>\n",
       "      <th>0</th>\n",
       "      <td>OWNER</td>\n",
       "      <td>1</td>\n",
       "      <td>BHK</td>\n",
       "      <td>Independent Floor</td>\n",
       "      <td>Mundhwa</td>\n",
       "      <td>6750</td>\n",
       "      <td>450</td>\n",
       "      <td>Unfurnished</td>\n",
       "    </tr>\n",
       "    <tr>\n",
       "      <th>1</th>\n",
       "      <td>OWNER</td>\n",
       "      <td>2</td>\n",
       "      <td>BHK</td>\n",
       "      <td>Apartment</td>\n",
       "      <td>Wakad</td>\n",
       "      <td>18000</td>\n",
       "      <td>916</td>\n",
       "      <td>Unfurnished</td>\n",
       "    </tr>\n",
       "    <tr>\n",
       "      <th>2</th>\n",
       "      <td>OWNER</td>\n",
       "      <td>3</td>\n",
       "      <td>BHK</td>\n",
       "      <td>Apartment</td>\n",
       "      <td>Wagholi</td>\n",
       "      <td>16500</td>\n",
       "      <td>1085</td>\n",
       "      <td>Semi-Furnished</td>\n",
       "    </tr>\n",
       "    <tr>\n",
       "      <th>3</th>\n",
       "      <td>OWNER</td>\n",
       "      <td>1</td>\n",
       "      <td>RK</td>\n",
       "      <td>Studio Apartment</td>\n",
       "      <td>Kothrud</td>\n",
       "      <td>8000</td>\n",
       "      <td>250</td>\n",
       "      <td>Furnished</td>\n",
       "    </tr>\n",
       "    <tr>\n",
       "      <th>4</th>\n",
       "      <td>OWNER</td>\n",
       "      <td>2</td>\n",
       "      <td>BHK</td>\n",
       "      <td>Apartment</td>\n",
       "      <td>Yerawada</td>\n",
       "      <td>25000</td>\n",
       "      <td>1005</td>\n",
       "      <td>Semi-Furnished</td>\n",
       "    </tr>\n",
       "    <tr>\n",
       "      <th>...</th>\n",
       "      <td>...</td>\n",
       "      <td>...</td>\n",
       "      <td>...</td>\n",
       "      <td>...</td>\n",
       "      <td>...</td>\n",
       "      <td>...</td>\n",
       "      <td>...</td>\n",
       "      <td>...</td>\n",
       "    </tr>\n",
       "    <tr>\n",
       "      <th>22795</th>\n",
       "      <td>OWNER</td>\n",
       "      <td>1</td>\n",
       "      <td>BHK</td>\n",
       "      <td>Apartment</td>\n",
       "      <td>Chinchwad</td>\n",
       "      <td>13250</td>\n",
       "      <td>650</td>\n",
       "      <td>Semi-Furnished</td>\n",
       "    </tr>\n",
       "    <tr>\n",
       "      <th>22796</th>\n",
       "      <td>OWNER</td>\n",
       "      <td>1</td>\n",
       "      <td>RK</td>\n",
       "      <td>Studio Apartment</td>\n",
       "      <td>Wadgaon Sheri</td>\n",
       "      <td>7000</td>\n",
       "      <td>350</td>\n",
       "      <td>Unfurnished</td>\n",
       "    </tr>\n",
       "    <tr>\n",
       "      <th>22797</th>\n",
       "      <td>OWNER</td>\n",
       "      <td>1</td>\n",
       "      <td>BHK</td>\n",
       "      <td>Apartment</td>\n",
       "      <td>Kothrud</td>\n",
       "      <td>8500</td>\n",
       "      <td>389</td>\n",
       "      <td>Semi-Furnished</td>\n",
       "    </tr>\n",
       "    <tr>\n",
       "      <th>22798</th>\n",
       "      <td>AGENT</td>\n",
       "      <td>1</td>\n",
       "      <td>BHK</td>\n",
       "      <td>Apartment</td>\n",
       "      <td>Wakad</td>\n",
       "      <td>16500</td>\n",
       "      <td>670</td>\n",
       "      <td>Semi-Furnished</td>\n",
       "    </tr>\n",
       "    <tr>\n",
       "      <th>22799</th>\n",
       "      <td>AGENT</td>\n",
       "      <td>2</td>\n",
       "      <td>BHK</td>\n",
       "      <td>Apartment</td>\n",
       "      <td>Alandi</td>\n",
       "      <td>12000</td>\n",
       "      <td>800</td>\n",
       "      <td>Unfurnished</td>\n",
       "    </tr>\n",
       "  </tbody>\n",
       "</table>\n",
       "<p>22629 rows × 8 columns</p>\n",
       "</div>"
      ],
      "text/plain": [
       "      seller_type  bedroom layout_type      property_type       locality  \\\n",
       "0           OWNER        1         BHK  Independent Floor        Mundhwa   \n",
       "1           OWNER        2         BHK          Apartment          Wakad   \n",
       "2           OWNER        3         BHK          Apartment        Wagholi   \n",
       "3           OWNER        1          RK   Studio Apartment        Kothrud   \n",
       "4           OWNER        2         BHK          Apartment       Yerawada   \n",
       "...           ...      ...         ...                ...            ...   \n",
       "22795       OWNER        1         BHK          Apartment      Chinchwad   \n",
       "22796       OWNER        1          RK   Studio Apartment  Wadgaon Sheri   \n",
       "22797       OWNER        1         BHK          Apartment        Kothrud   \n",
       "22798       AGENT        1         BHK          Apartment          Wakad   \n",
       "22799       AGENT        2         BHK          Apartment         Alandi   \n",
       "\n",
       "       price  area    furnish_type  \n",
       "0       6750   450     Unfurnished  \n",
       "1      18000   916     Unfurnished  \n",
       "2      16500  1085  Semi-Furnished  \n",
       "3       8000   250       Furnished  \n",
       "4      25000  1005  Semi-Furnished  \n",
       "...      ...   ...             ...  \n",
       "22795  13250   650  Semi-Furnished  \n",
       "22796   7000   350     Unfurnished  \n",
       "22797   8500   389  Semi-Furnished  \n",
       "22798  16500   670  Semi-Furnished  \n",
       "22799  12000   800     Unfurnished  \n",
       "\n",
       "[22629 rows x 8 columns]"
      ]
     },
     "execution_count": 85,
     "metadata": {},
     "output_type": "execute_result"
    }
   ],
   "source": [
    "room"
   ]
  },
  {
   "cell_type": "code",
   "execution_count": 86,
   "id": "e2511d94",
   "metadata": {},
   "outputs": [
    {
     "name": "stdout",
     "output_type": "stream",
     "text": [
      "(21775, 8)\n"
     ]
    }
   ],
   "source": [
    "\n",
    "counts = room[\"locality\"].value_counts()\n",
    "\n",
    "\n",
    "room = room[room[\"locality\"].isin(counts[counts >= 10].index)]\n",
    "\n",
    "print(room.shape) \n"
   ]
  },
  {
   "cell_type": "code",
   "execution_count": 87,
   "id": "c5ab07c2",
   "metadata": {},
   "outputs": [
    {
     "name": "stdout",
     "output_type": "stream",
     "text": [
      "[('Wagholi', 2165), ('Hinjewadi', 1442), ('Wakad', 1253), ('Kharadi', 1218), ('Hadapsar', 1109), ('Bavdhan', 784), ('Baner', 735), ('Pimple Saudagar', 653), ('Wadgaon Sheri', 558), ('Viman Nagar', 552), ('Kothrud', 534), ('Dhanori', 494), ('Kondhwa', 466), ('Mundhwa', 419), ('Lohegaon', 371), ('Dhayari', 370), ('Chinchwad', 368), ('Kalyani Nagar', 356), ('Balewadi', 339), ('Undri', 335), ('Koregaon Park', 312), ('Wanowrie', 272), ('Ravet', 271), ('Aundh', 254), ('NIBM Annex Mohammadwadi', 241), ('Rahatani', 220), ('Akurdi', 217), ('Pimple Gurav', 198), ('Yerawada', 182), ('Bibwewadi', 168), ('Vadgaon Budruk', 158), ('Pimple Nilakh', 151), ('Vishrantwadi', 150), ('Fursungi', 147), ('Warje', 141), ('Thergaon', 137), ('Karve Nagar', 135), ('Mahalunge', 134), ('Katraj', 132), ('Ambegaon Budruk', 132), ('Nigdi', 130), ('Pimpri', 123), ('Tingre Nagar', 122), ('Pashan', 121), ('Chikhali', 115), ('Moshi', 111), ('Tathawade', 109), ('Sus', 104), ('Gahunje', 98), ('Dhankawadi Police Station Road', 96), ('Sopan Baug', 91), ('Sangamvadi', 85), ('Manjari', 84), ('Shivaji Nagar', 81), ('New Kalyani Nagar', 81), ('Erandwane', 76), ('Nanded', 69), ('Bhugaon', 67), ('Wanwadi', 63), ('Handewadi', 58), ('Mohammed wadi', 58), ('New Sangavi', 56), ('Talegaon Dabhade', 54), ('Bhosari', 54), ('Manjari Budruk', 53), ('Chakan', 50), ('Dighi', 48), ('Alandi', 47), ('Magarpatta', 46), ('Parvati Darshan', 45), ('NIBM', 40), ('NIBM Annexe', 39), ('Shivane', 34), ('Gultekdi', 33), ('Kalewadi', 31), ('Dhayari Phata', 31), ('Deccan Gymkhana', 30), ('Old Sangvi', 30), ('Boat Club Road', 28), ('Kondhwa Budruk', 27), ('Bopodi', 26), ('Ghorpadi', 26), ('Shukrawar Peth', 25), ('hingne Khurd', 25), ('Narhe', 25), ('Swargate', 22), ('Punawale', 22), ('Charholi Budruk', 22), ('Gokhalenagar', 21), ('Warje Malwadi', 21), ('Chandan Nagar', 21), ('Talwade', 21), ('Loni Kalbhor', 20), ('Sadashiv Peth', 20), ('Somwar Peth', 19), ('Anand Nagar', 18), ('Agalambe', 18), ('Bhegade Aali', 17), ('Dattavadi', 16), ('Balaji Nagar', 16), ('Pune Satara Road', 16), ('Bhukum', 15), ('Nigdi Sector 24', 15), ('Kasarwadi', 14), ('Pune Station', 14), ('Pradhikaran Nigdi', 14), ('Mamurdi', 13), ('Kothrud Depot Road', 13), ('Jambhulwadi', 13), ('Baner Road', 13), ('Pirangut', 13), ('Ambegaon Pathar', 13), ('Senapati Bapat Road', 13), ('Ganesh Nagar', 13), ('Bopkhel', 12), ('Vadgoan Sheri Rajendri Nagar', 12), ('Sahakar Nagar', 12), ('Ashok Nagar', 12), ('Market yard', 12), ('Lulla Nagar', 12), ('Kasba Peth', 12), ('Shaniwar Peth', 12), ('Daund', 12), ('Narayan Peth', 11), ('Rasta Peth', 11), ('Marunji', 11), ('Pimpri Chinchwad', 10), ('Mukund Nagar', 10), ('maharshi nagar', 10)]\n"
     ]
    }
   ],
   "source": [
    "locality_counts = list(room[\"locality\"].value_counts().items())\n",
    "print(locality_counts)"
   ]
  },
  {
   "cell_type": "code",
   "execution_count": 88,
   "id": "234ede85",
   "metadata": {},
   "outputs": [
    {
     "name": "stdout",
     "output_type": "stream",
     "text": [
      "129\n"
     ]
    }
   ],
   "source": [
    "unique_count = room[\"locality\"].nunique()\n",
    "print(unique_count)"
   ]
  },
  {
   "cell_type": "code",
   "execution_count": 89,
   "id": "be4b205c",
   "metadata": {},
   "outputs": [
    {
     "data": {
      "text/plain": [
       "seller_type\n",
       "AGENT      15778\n",
       "OWNER       5668\n",
       "BUILDER      329\n",
       "Name: count, dtype: int64"
      ]
     },
     "execution_count": 89,
     "metadata": {},
     "output_type": "execute_result"
    }
   ],
   "source": [
    "room[\"seller_type\"].value_counts()"
   ]
  },
  {
   "cell_type": "code",
   "execution_count": 90,
   "id": "31a23f4c",
   "metadata": {},
   "outputs": [
    {
     "data": {
      "text/plain": [
       "furnish_type\n",
       "Unfurnished       9388\n",
       "Semi-Furnished    8441\n",
       "Furnished         3946\n",
       "Name: count, dtype: int64"
      ]
     },
     "execution_count": 90,
     "metadata": {},
     "output_type": "execute_result"
    }
   ],
   "source": [
    "room[\"furnish_type\"].value_counts()"
   ]
  },
  {
   "cell_type": "code",
   "execution_count": 91,
   "id": "249d3e32",
   "metadata": {},
   "outputs": [
    {
     "data": {
      "text/plain": [
       "property_type\n",
       "Apartment            19391\n",
       "Studio Apartment       984\n",
       "Independent House      824\n",
       "Independent Floor      306\n",
       "Villa                  259\n",
       "Penthouse               11\n",
       "Name: count, dtype: int64"
      ]
     },
     "execution_count": 91,
     "metadata": {},
     "output_type": "execute_result"
    }
   ],
   "source": [
    "room[\"property_type\"].value_counts()"
   ]
  },
  {
   "cell_type": "code",
   "execution_count": 92,
   "id": "000ce721",
   "metadata": {},
   "outputs": [
    {
     "data": {
      "text/plain": [
       "layout_type\n",
       "BHK    20791\n",
       "RK       984\n",
       "Name: count, dtype: int64"
      ]
     },
     "execution_count": 92,
     "metadata": {},
     "output_type": "execute_result"
    }
   ],
   "source": [
    "room[\"layout_type\"].value_counts()"
   ]
  },
  {
   "cell_type": "code",
   "execution_count": 93,
   "id": "83ad8caf",
   "metadata": {},
   "outputs": [
    {
     "data": {
      "text/plain": [
       "5668"
      ]
     },
     "execution_count": 93,
     "metadata": {},
     "output_type": "execute_result"
    }
   ],
   "source": [
    "room[\"seller_type\"].value_counts()[\"OWNER\"]"
   ]
  },
  {
   "cell_type": "code",
   "execution_count": 94,
   "id": "dfd51878",
   "metadata": {},
   "outputs": [
    {
     "name": "stderr",
     "output_type": "stream",
     "text": [
      "C:\\Users\\HARSH\\AppData\\Local\\Temp\\ipykernel_4232\\2158874609.py:6: SettingWithCopyWarning: \n",
      "A value is trying to be set on a copy of a slice from a DataFrame.\n",
      "Try using .loc[row_indexer,col_indexer] = value instead\n",
      "\n",
      "See the caveats in the documentation: https://pandas.pydata.org/pandas-docs/stable/user_guide/indexing.html#returning-a-view-versus-a-copy\n",
      "  room[col] = room[col].map(counts)\n",
      "C:\\Users\\HARSH\\AppData\\Local\\Temp\\ipykernel_4232\\2158874609.py:6: SettingWithCopyWarning: \n",
      "A value is trying to be set on a copy of a slice from a DataFrame.\n",
      "Try using .loc[row_indexer,col_indexer] = value instead\n",
      "\n",
      "See the caveats in the documentation: https://pandas.pydata.org/pandas-docs/stable/user_guide/indexing.html#returning-a-view-versus-a-copy\n",
      "  room[col] = room[col].map(counts)\n",
      "C:\\Users\\HARSH\\AppData\\Local\\Temp\\ipykernel_4232\\2158874609.py:6: SettingWithCopyWarning: \n",
      "A value is trying to be set on a copy of a slice from a DataFrame.\n",
      "Try using .loc[row_indexer,col_indexer] = value instead\n",
      "\n",
      "See the caveats in the documentation: https://pandas.pydata.org/pandas-docs/stable/user_guide/indexing.html#returning-a-view-versus-a-copy\n",
      "  room[col] = room[col].map(counts)\n",
      "C:\\Users\\HARSH\\AppData\\Local\\Temp\\ipykernel_4232\\2158874609.py:6: SettingWithCopyWarning: \n",
      "A value is trying to be set on a copy of a slice from a DataFrame.\n",
      "Try using .loc[row_indexer,col_indexer] = value instead\n",
      "\n",
      "See the caveats in the documentation: https://pandas.pydata.org/pandas-docs/stable/user_guide/indexing.html#returning-a-view-versus-a-copy\n",
      "  room[col] = room[col].map(counts)\n",
      "C:\\Users\\HARSH\\AppData\\Local\\Temp\\ipykernel_4232\\2158874609.py:6: SettingWithCopyWarning: \n",
      "A value is trying to be set on a copy of a slice from a DataFrame.\n",
      "Try using .loc[row_indexer,col_indexer] = value instead\n",
      "\n",
      "See the caveats in the documentation: https://pandas.pydata.org/pandas-docs/stable/user_guide/indexing.html#returning-a-view-versus-a-copy\n",
      "  room[col] = room[col].map(counts)\n"
     ]
    },
    {
     "data": {
      "text/html": [
       "<div>\n",
       "<style scoped>\n",
       "    .dataframe tbody tr th:only-of-type {\n",
       "        vertical-align: middle;\n",
       "    }\n",
       "\n",
       "    .dataframe tbody tr th {\n",
       "        vertical-align: top;\n",
       "    }\n",
       "\n",
       "    .dataframe thead th {\n",
       "        text-align: right;\n",
       "    }\n",
       "</style>\n",
       "<table border=\"1\" class=\"dataframe\">\n",
       "  <thead>\n",
       "    <tr style=\"text-align: right;\">\n",
       "      <th></th>\n",
       "      <th>seller_type</th>\n",
       "      <th>bedroom</th>\n",
       "      <th>layout_type</th>\n",
       "      <th>property_type</th>\n",
       "      <th>locality</th>\n",
       "      <th>price</th>\n",
       "      <th>area</th>\n",
       "      <th>furnish_type</th>\n",
       "    </tr>\n",
       "  </thead>\n",
       "  <tbody>\n",
       "    <tr>\n",
       "      <th>0</th>\n",
       "      <td>5668</td>\n",
       "      <td>1</td>\n",
       "      <td>20791</td>\n",
       "      <td>306</td>\n",
       "      <td>419</td>\n",
       "      <td>6750</td>\n",
       "      <td>450</td>\n",
       "      <td>9388</td>\n",
       "    </tr>\n",
       "    <tr>\n",
       "      <th>1</th>\n",
       "      <td>5668</td>\n",
       "      <td>2</td>\n",
       "      <td>20791</td>\n",
       "      <td>19391</td>\n",
       "      <td>1253</td>\n",
       "      <td>18000</td>\n",
       "      <td>916</td>\n",
       "      <td>9388</td>\n",
       "    </tr>\n",
       "    <tr>\n",
       "      <th>2</th>\n",
       "      <td>5668</td>\n",
       "      <td>3</td>\n",
       "      <td>20791</td>\n",
       "      <td>19391</td>\n",
       "      <td>2165</td>\n",
       "      <td>16500</td>\n",
       "      <td>1085</td>\n",
       "      <td>8441</td>\n",
       "    </tr>\n",
       "    <tr>\n",
       "      <th>3</th>\n",
       "      <td>5668</td>\n",
       "      <td>1</td>\n",
       "      <td>984</td>\n",
       "      <td>984</td>\n",
       "      <td>534</td>\n",
       "      <td>8000</td>\n",
       "      <td>250</td>\n",
       "      <td>3946</td>\n",
       "    </tr>\n",
       "    <tr>\n",
       "      <th>4</th>\n",
       "      <td>5668</td>\n",
       "      <td>2</td>\n",
       "      <td>20791</td>\n",
       "      <td>19391</td>\n",
       "      <td>182</td>\n",
       "      <td>25000</td>\n",
       "      <td>1005</td>\n",
       "      <td>8441</td>\n",
       "    </tr>\n",
       "    <tr>\n",
       "      <th>...</th>\n",
       "      <td>...</td>\n",
       "      <td>...</td>\n",
       "      <td>...</td>\n",
       "      <td>...</td>\n",
       "      <td>...</td>\n",
       "      <td>...</td>\n",
       "      <td>...</td>\n",
       "      <td>...</td>\n",
       "    </tr>\n",
       "    <tr>\n",
       "      <th>22795</th>\n",
       "      <td>5668</td>\n",
       "      <td>1</td>\n",
       "      <td>20791</td>\n",
       "      <td>19391</td>\n",
       "      <td>368</td>\n",
       "      <td>13250</td>\n",
       "      <td>650</td>\n",
       "      <td>8441</td>\n",
       "    </tr>\n",
       "    <tr>\n",
       "      <th>22796</th>\n",
       "      <td>5668</td>\n",
       "      <td>1</td>\n",
       "      <td>984</td>\n",
       "      <td>984</td>\n",
       "      <td>558</td>\n",
       "      <td>7000</td>\n",
       "      <td>350</td>\n",
       "      <td>9388</td>\n",
       "    </tr>\n",
       "    <tr>\n",
       "      <th>22797</th>\n",
       "      <td>5668</td>\n",
       "      <td>1</td>\n",
       "      <td>20791</td>\n",
       "      <td>19391</td>\n",
       "      <td>534</td>\n",
       "      <td>8500</td>\n",
       "      <td>389</td>\n",
       "      <td>8441</td>\n",
       "    </tr>\n",
       "    <tr>\n",
       "      <th>22798</th>\n",
       "      <td>15778</td>\n",
       "      <td>1</td>\n",
       "      <td>20791</td>\n",
       "      <td>19391</td>\n",
       "      <td>1253</td>\n",
       "      <td>16500</td>\n",
       "      <td>670</td>\n",
       "      <td>8441</td>\n",
       "    </tr>\n",
       "    <tr>\n",
       "      <th>22799</th>\n",
       "      <td>15778</td>\n",
       "      <td>2</td>\n",
       "      <td>20791</td>\n",
       "      <td>19391</td>\n",
       "      <td>47</td>\n",
       "      <td>12000</td>\n",
       "      <td>800</td>\n",
       "      <td>9388</td>\n",
       "    </tr>\n",
       "  </tbody>\n",
       "</table>\n",
       "<p>21775 rows × 8 columns</p>\n",
       "</div>"
      ],
      "text/plain": [
       "       seller_type  bedroom  layout_type  property_type  locality  price  \\\n",
       "0             5668        1        20791            306       419   6750   \n",
       "1             5668        2        20791          19391      1253  18000   \n",
       "2             5668        3        20791          19391      2165  16500   \n",
       "3             5668        1          984            984       534   8000   \n",
       "4             5668        2        20791          19391       182  25000   \n",
       "...            ...      ...          ...            ...       ...    ...   \n",
       "22795         5668        1        20791          19391       368  13250   \n",
       "22796         5668        1          984            984       558   7000   \n",
       "22797         5668        1        20791          19391       534   8500   \n",
       "22798        15778        1        20791          19391      1253  16500   \n",
       "22799        15778        2        20791          19391        47  12000   \n",
       "\n",
       "       area  furnish_type  \n",
       "0       450          9388  \n",
       "1       916          9388  \n",
       "2      1085          8441  \n",
       "3       250          3946  \n",
       "4      1005          8441  \n",
       "...     ...           ...  \n",
       "22795   650          8441  \n",
       "22796   350          9388  \n",
       "22797   389          8441  \n",
       "22798   670          8441  \n",
       "22799   800          9388  \n",
       "\n",
       "[21775 rows x 8 columns]"
      ]
     },
     "execution_count": 94,
     "metadata": {},
     "output_type": "execute_result"
    }
   ],
   "source": [
    "cols_to_encode = ['seller_type', 'layout_type', 'property_type', 'locality', 'furnish_type']\n",
    "\n",
    "\n",
    "for col in cols_to_encode:\n",
    "    counts = room[col].value_counts()\n",
    "    room[col] = room[col].map(counts)\n",
    "room"
   ]
  },
  {
   "cell_type": "code",
   "execution_count": 95,
   "id": "a179a5c3",
   "metadata": {},
   "outputs": [
    {
     "data": {
      "text/plain": [
       "seller_type      0.190715\n",
       "bedroom          0.583993\n",
       "layout_type      0.132131\n",
       "property_type    0.073967\n",
       "locality        -0.079794\n",
       "price            1.000000\n",
       "area             0.764433\n",
       "furnish_type    -0.271736\n",
       "Name: price, dtype: float64"
      ]
     },
     "execution_count": 95,
     "metadata": {},
     "output_type": "execute_result"
    }
   ],
   "source": [
    "room.corr(numeric_only=True)[\"price\"]"
   ]
  },
  {
   "cell_type": "code",
   "execution_count": 96,
   "id": "c4d2920f",
   "metadata": {},
   "outputs": [
    {
     "name": "stdout",
     "output_type": "stream",
     "text": [
      "Requirement already satisfied: seaborn in c:\\users\\harsh\\anaconda3\\envs\\yadav\\lib\\site-packages (0.13.2)\n",
      "Requirement already satisfied: numpy!=1.24.0,>=1.20 in c:\\users\\harsh\\anaconda3\\envs\\yadav\\lib\\site-packages (from seaborn) (1.24.3)\n",
      "Requirement already satisfied: pandas>=1.2 in c:\\users\\harsh\\anaconda3\\envs\\yadav\\lib\\site-packages (from seaborn) (2.0.3)\n",
      "Requirement already satisfied: matplotlib!=3.6.1,>=3.4 in c:\\users\\harsh\\anaconda3\\envs\\yadav\\lib\\site-packages (from seaborn) (3.7.2)\n",
      "Requirement already satisfied: contourpy>=1.0.1 in c:\\users\\harsh\\anaconda3\\envs\\yadav\\lib\\site-packages (from matplotlib!=3.6.1,>=3.4->seaborn) (1.0.5)\n",
      "Requirement already satisfied: cycler>=0.10 in c:\\users\\harsh\\anaconda3\\envs\\yadav\\lib\\site-packages (from matplotlib!=3.6.1,>=3.4->seaborn) (0.11.0)\n",
      "Requirement already satisfied: fonttools>=4.22.0 in c:\\users\\harsh\\anaconda3\\envs\\yadav\\lib\\site-packages (from matplotlib!=3.6.1,>=3.4->seaborn) (4.25.0)\n",
      "Requirement already satisfied: kiwisolver>=1.0.1 in c:\\users\\harsh\\anaconda3\\envs\\yadav\\lib\\site-packages (from matplotlib!=3.6.1,>=3.4->seaborn) (1.4.4)\n",
      "Requirement already satisfied: packaging>=20.0 in c:\\users\\harsh\\anaconda3\\envs\\yadav\\lib\\site-packages (from matplotlib!=3.6.1,>=3.4->seaborn) (23.1)\n",
      "Requirement already satisfied: pillow>=6.2.0 in c:\\users\\harsh\\anaconda3\\envs\\yadav\\lib\\site-packages (from matplotlib!=3.6.1,>=3.4->seaborn) (9.4.0)\n",
      "Requirement already satisfied: pyparsing<3.1,>=2.3.1 in c:\\users\\harsh\\anaconda3\\envs\\yadav\\lib\\site-packages (from matplotlib!=3.6.1,>=3.4->seaborn) (3.0.9)\n",
      "Requirement already satisfied: python-dateutil>=2.7 in c:\\users\\harsh\\anaconda3\\envs\\yadav\\lib\\site-packages (from matplotlib!=3.6.1,>=3.4->seaborn) (2.8.2)\n",
      "Requirement already satisfied: importlib-resources>=3.2.0 in c:\\users\\harsh\\anaconda3\\envs\\yadav\\lib\\site-packages (from matplotlib!=3.6.1,>=3.4->seaborn) (5.2.0)\n",
      "Requirement already satisfied: pytz>=2020.1 in c:\\users\\harsh\\anaconda3\\envs\\yadav\\lib\\site-packages (from pandas>=1.2->seaborn) (2023.3)\n",
      "Requirement already satisfied: tzdata>=2022.1 in c:\\users\\harsh\\anaconda3\\envs\\yadav\\lib\\site-packages (from pandas>=1.2->seaborn) (2023.3)\n",
      "Requirement already satisfied: zipp>=3.1.0 in c:\\users\\harsh\\anaconda3\\envs\\yadav\\lib\\site-packages (from importlib-resources>=3.2.0->matplotlib!=3.6.1,>=3.4->seaborn) (3.11.0)\n",
      "Requirement already satisfied: six>=1.5 in c:\\users\\harsh\\anaconda3\\envs\\yadav\\lib\\site-packages (from python-dateutil>=2.7->matplotlib!=3.6.1,>=3.4->seaborn) (1.16.0)\n"
     ]
    }
   ],
   "source": [
    "!pip install seaborn"
   ]
  },
  {
   "cell_type": "code",
   "execution_count": 97,
   "id": "7f2dfd89",
   "metadata": {},
   "outputs": [
    {
     "data": {
      "image/png": "[encoded data removed]",
      "text/plain": [
       "<Figure size 800x500 with 1 Axes>"
      ]
     },
     "metadata": {},
     "output_type": "display_data"
    },
    {
     "data": {
      "image/png": "[encoded data removed]",
      "text/plain": [
       "<Figure size 800x500 with 1 Axes>"
      ]
     },
     "metadata": {},
     "output_type": "display_data"
    },
    {
     "data": {
      "image/png": "[encoded data removed]",
      "text/plain": [
       "<Figure size 800x500 with 1 Axes>"
      ]
     },
     "metadata": {},
     "output_type": "display_data"
    },
    {
     "data": {
      "image/png": "[encoded data removed]",
      "text/plain": [
       "<Figure size 800x500 with 1 Axes>"
      ]
     },
     "metadata": {},
     "output_type": "display_data"
    },
    {
     "data": {
      "image/png": "[encoded data removed]",
      "text/plain": [
       "<Figure size 1000x500 with 1 Axes>"
      ]
     },
     "metadata": {},
     "output_type": "display_data"
    },
    {
     "data": {
      "image/png": "[encoded data removed]",
      "text/plain": [
       "<Figure size 800x500 with 1 Axes>"
      ]
     },
     "metadata": {},
     "output_type": "display_data"
    },
    {
     "data": {
      "image/png": "[encoded data removed]",
      "text/plain": [
       "<Figure size 800x500 with 1 Axes>"
      ]
     },
     "metadata": {},
     "output_type": "display_data"
    }
   ],
   "source": [
    "import seaborn as sns\n",
    "import matplotlib.pyplot as plt\n",
    "\n",
    "categorical_cols = ['seller_type', 'layout_type', 'property_type', 'furnish_type']\n",
    "\n",
    "for col in categorical_cols:\n",
    "    plt.figure(figsize=(8, 5))\n",
    "    sns.boxplot(x=col, y='price', data=room)\n",
    "    plt.title(f'Price distribution by {col}')\n",
    "    plt.xticks(rotation=45)\n",
    "    plt.tight_layout()\n",
    "    plt.show()\n",
    "\n",
    "\n",
    "top_localities = room['locality'].value_counts().head(10).index\n",
    "plt.figure(figsize=(10, 5))\n",
    "sns.boxplot(x='locality', y='price', data=room[room['locality'].isin(top_localities)])\n",
    "plt.title('Price by Top 10 Localities')\n",
    "plt.xticks(rotation=45)\n",
    "plt.tight_layout()\n",
    "plt.show()\n",
    "\n",
    "\n",
    "plt.figure(figsize=(8, 5))\n",
    "sns.boxplot(x='bedroom', y='price', data=room)\n",
    "plt.title('Price by Bedroom Count')\n",
    "plt.tight_layout()\n",
    "plt.show()\n",
    "\n",
    "\n",
    "plt.figure(figsize=(8, 5))\n",
    "sns.scatterplot(x='area', y='price', data=room)\n",
    "plt.title('Price vs Area')\n",
    "plt.tight_layout()\n",
    "plt.show()\n"
   ]
  },
  {
   "cell_type": "code",
   "execution_count": 98,
   "id": "be9edbb3",
   "metadata": {},
   "outputs": [],
   "source": [
    "X=room.drop(\"price\",axis=1)\n",
    "y=room[\"price\"]"
   ]
  },
  {
   "cell_type": "code",
   "execution_count": 99,
   "id": "21783869",
   "metadata": {},
   "outputs": [],
   "source": [
    "from sklearn.preprocessing import StandardScaler\n",
    "scaler=StandardScaler()\n",
    "X_scale=scaler.fit_transform(X)\n"
   ]
  },
  {
   "cell_type": "code",
   "execution_count": 100,
   "id": "fc455ad2",
   "metadata": {},
   "outputs": [
    {
     "name": "stdout",
     "output_type": "stream",
     "text": [
      "Train shape: (17420, 7)\n",
      "Test shape: (4355, 7)\n"
     ]
    }
   ],
   "source": [
    "from sklearn.model_selection import train_test_split\n",
    "X_train,X_test,y_train,y_test=train_test_split(X,y,test_size=0.2,random_state=42)\n",
    "print(\"Train shape:\", X_train.shape)\n",
    "print(\"Test shape:\", X_test.shape)"
   ]
  },
  {
   "cell_type": "code",
   "execution_count": 101,
   "id": "ae6ee97f",
   "metadata": {},
   "outputs": [
    {
     "name": "stdout",
     "output_type": "stream",
     "text": [
      "Requirement already satisfied: xgboost in c:\\users\\harsh\\anaconda3\\envs\\yadav\\lib\\site-packages (2.1.4)\n",
      "Requirement already satisfied: numpy in c:\\users\\harsh\\anaconda3\\envs\\yadav\\lib\\site-packages (from xgboost) (1.24.3)\n",
      "Requirement already satisfied: scipy in c:\\users\\harsh\\anaconda3\\envs\\yadav\\lib\\site-packages (from xgboost) (1.10.1)\n"
     ]
    }
   ],
   "source": [
    "!pip install xgboost"
   ]
  },
  {
   "cell_type": "code",
   "execution_count": 102,
   "id": "894aef7d",
   "metadata": {},
   "outputs": [
    {
     "name": "stdout",
     "output_type": "stream",
     "text": [
      "Fitting 3 folds for each of 50 candidates, totalling 150 fits\n",
      "Best params: {'subsample': 1.0, 'reg_lambda': 1, 'reg_alpha': 0.5, 'n_estimators': 700, 'min_child_weight': 1, 'max_depth': 9, 'learning_rate': 0.05, 'colsample_bytree': 0.6}\n",
      "Best MAE: 3375.4983917679983\n"
     ]
    }
   ],
   "source": [
    "from sklearn.model_selection import RandomizedSearchCV\n",
    "from xgboost import XGBRegressor\n",
    "import numpy as np\n",
    "\n",
    "model = XGBRegressor(objective='reg:squarederror')\n",
    "\n",
    "param_dist = {\n",
    "    'n_estimators': [100, 300, 500, 700],\n",
    "    'max_depth': [3, 5, 7, 9],\n",
    "    'learning_rate': [0.01, 0.05, 0.1, 0.2],\n",
    "    'subsample': [0.6, 0.8, 1.0],\n",
    "    'colsample_bytree': [0.6, 0.8, 1.0],\n",
    "    'reg_alpha': [0, 0.1, 0.5, 1],    # L1 regularization\n",
    "    'reg_lambda': [1, 1.5, 2],        # L2 regularization\n",
    "    'min_child_weight': [1, 3, 5]\n",
    "}\n",
    "\n",
    "random_search = RandomizedSearchCV(\n",
    "    estimator=model,\n",
    "    param_distributions=param_dist,\n",
    "    n_iter=50,           # Number of parameter settings sampled\n",
    "    scoring='neg_mean_absolute_error',  # Or other scoring metric\n",
    "    cv=3,\n",
    "    verbose=2,\n",
    "    random_state=42,\n",
    "    n_jobs=-1\n",
    ")\n",
    "\n",
    "random_search.fit(X_train, y_train)\n",
    "\n",
    "print(\"Best params:\", random_search.best_params_)\n",
    "print(\"Best MAE:\", -random_search.best_score_)\n"
   ]
  },
  {
   "cell_type": "code",
   "execution_count": 108,
   "id": "0ccd618d",
   "metadata": {},
   "outputs": [
    {
     "data": {
      "text/html": [
       "<style>#sk-container-id-1 {color: black;}#sk-container-id-1 pre{padding: 0;}#sk-container-id-1 div.sk-toggleable {background-color: white;}#sk-container-id-1 label.sk-toggleable__label {cursor: pointer;display: block;width: 100%;margin-bottom: 0;padding: 0.3em;box-sizing: border-box;text-align: center;}#sk-container-id-1 label.sk-toggleable__label-arrow:before {content: \"▸\";float: left;margin-right: 0.25em;color: #696969;}#sk-container-id-1 label.sk-toggleable__label-arrow:hover:before {color: black;}#sk-container-id-1 div.sk-estimator:hover label.sk-toggleable__label-arrow:before {color: black;}#sk-container-id-1 div.sk-toggleable__content {max-height: 0;max-width: 0;overflow: hidden;text-align: left;background-color: #f0f8ff;}#sk-container-id-1 div.sk-toggleable__content pre {margin: 0.2em;color: black;border-radius: 0.25em;background-color: #f0f8ff;}#sk-container-id-1 input.sk-toggleable__control:checked~div.sk-toggleable__content {max-height: 200px;max-width: 100%;overflow: auto;}#sk-container-id-1 input.sk-toggleable__control:checked~label.sk-toggleable__label-arrow:before {content: \"▾\";}#sk-container-id-1 div.sk-estimator input.sk-toggleable__control:checked~label.sk-toggleable__label {background-color: #d4ebff;}#sk-container-id-1 div.sk-label input.sk-toggleable__control:checked~label.sk-toggleable__label {background-color: #d4ebff;}#sk-container-id-1 input.sk-hidden--visually {border: 0;clip: rect(1px 1px 1px 1px);clip: rect(1px, 1px, 1px, 1px);height: 1px;margin: -1px;overflow: hidden;padding: 0;position: absolute;width: 1px;}#sk-container-id-1 div.sk-estimator {font-family: monospace;background-color: #f0f8ff;border: 1px dotted black;border-radius: 0.25em;box-sizing: border-box;margin-bottom: 0.5em;}#sk-container-id-1 div.sk-estimator:hover {background-color: #d4ebff;}#sk-container-id-1 div.sk-parallel-item::after {content: \"\";width: 100%;border-bottom: 1px solid gray;flex-grow: 1;}#sk-container-id-1 div.sk-label:hover label.sk-toggleable__label {background-color: #d4ebff;}#sk-container-id-1 div.sk-serial::before {content: \"\";position: absolute;border-left: 1px solid gray;box-sizing: border-box;top: 0;bottom: 0;left: 50%;z-index: 0;}#sk-container-id-1 div.sk-serial {display: flex;flex-direction: column;align-items: center;background-color: white;padding-right: 0.2em;padding-left: 0.2em;position: relative;}#sk-container-id-1 div.sk-item {position: relative;z-index: 1;}#sk-container-id-1 div.sk-parallel {display: flex;align-items: stretch;justify-content: center;background-color: white;position: relative;}#sk-container-id-1 div.sk-item::before, #sk-container-id-1 div.sk-parallel-item::before {content: \"\";position: absolute;border-left: 1px solid gray;box-sizing: border-box;top: 0;bottom: 0;left: 50%;z-index: -1;}#sk-container-id-1 div.sk-parallel-item {display: flex;flex-direction: column;z-index: 1;position: relative;background-color: white;}#sk-container-id-1 div.sk-parallel-item:first-child::after {align-self: flex-end;width: 50%;}#sk-container-id-1 div.sk-parallel-item:last-child::after {align-self: flex-start;width: 50%;}#sk-container-id-1 div.sk-parallel-item:only-child::after {width: 0;}#sk-container-id-1 div.sk-dashed-wrapped {border: 1px dashed gray;margin: 0 0.4em 0.5em 0.4em;box-sizing: border-box;padding-bottom: 0.4em;background-color: white;}#sk-container-id-1 div.sk-label label {font-family: monospace;font-weight: bold;display: inline-block;line-height: 1.2em;}#sk-container-id-1 div.sk-label-container {text-align: center;}#sk-container-id-1 div.sk-container {/* jupyter's `normalize.less` sets `[hidden] { display: none; }` but bootstrap.min.css set `[hidden] { display: none !important; }` so we also need the `!important` here to be able to override the default hidden behavior on the sphinx rendered scikit-learn.org. See: https://github.com/scikit-learn/scikit-learn/issues/21755 */display: inline-block !important;position: relative;}#sk-container-id-1 div.sk-text-repr-fallback {display: none;}</style><div id=\"sk-container-id-1\" class=\"sk-top-container\"><div class=\"sk-text-repr-fallback\"><pre>XGBRegressor(base_score=None, booster=None, callbacks=None,\n",
       "             colsample_bylevel=None, colsample_bynode=None,\n",
       "             colsample_bytree=0.6, device=None, early_stopping_rounds=None,\n",
       "             enable_categorical=False, eval_metric=None, feature_types=None,\n",
       "             gamma=None, grow_policy=None, importance_type=None,\n",
       "             interaction_constraints=None, learning_rate=0.05, max_bin=None,\n",
       "             max_cat_threshold=None, max_cat_to_onehot=None,\n",
       "             max_delta_step=None, max_depth=9, max_leaves=None,\n",
       "             min_child_weight=1, missing=nan, monotone_constraints=None,\n",
       "             multi_strategy=None, n_estimators=700, n_jobs=None,\n",
       "             num_parallel_tree=None, random_state=None, ...)</pre><b>In a Jupyter environment, please rerun this cell to show the HTML representation or trust the notebook. <br />On GitHub, the HTML representation is unable to render, please try loading this page with nbviewer.org.</b></div><div class=\"sk-container\" hidden><div class=\"sk-item\"><div class=\"sk-estimator sk-toggleable\"><input class=\"sk-toggleable__control sk-hidden--visually\" id=\"sk-estimator-id-1\" type=\"checkbox\" checked><label for=\"sk-estimator-id-1\" class=\"sk-toggleable__label sk-toggleable__label-arrow\">XGBRegressor</label><div class=\"sk-toggleable__content\"><pre>XGBRegressor(base_score=None, booster=None, callbacks=None,\n",
       "             colsample_bylevel=None, colsample_bynode=None,\n",
       "             colsample_bytree=0.6, device=None, early_stopping_rounds=None,\n",
       "             enable_categorical=False, eval_metric=None, feature_types=None,\n",
       "             gamma=None, grow_policy=None, importance_type=None,\n",
       "             interaction_constraints=None, learning_rate=0.05, max_bin=None,\n",
       "             max_cat_threshold=None, max_cat_to_onehot=None,\n",
       "             max_delta_step=None, max_depth=9, max_leaves=None,\n",
       "             min_child_weight=1, missing=nan, monotone_constraints=None,\n",
       "             multi_strategy=None, n_estimators=700, n_jobs=None,\n",
       "             num_parallel_tree=None, random_state=None, ...)</pre></div></div></div></div></div>"
      ],
      "text/plain": [
       "XGBRegressor(base_score=None, booster=None, callbacks=None,\n",
       "             colsample_bylevel=None, colsample_bynode=None,\n",
       "             colsample_bytree=0.6, device=None, early_stopping_rounds=None,\n",
       "             enable_categorical=False, eval_metric=None, feature_types=None,\n",
       "             gamma=None, grow_policy=None, importance_type=None,\n",
       "             interaction_constraints=None, learning_rate=0.05, max_bin=None,\n",
       "             max_cat_threshold=None, max_cat_to_onehot=None,\n",
       "             max_delta_step=None, max_depth=9, max_leaves=None,\n",
       "             min_child_weight=1, missing=nan, monotone_constraints=None,\n",
       "             multi_strategy=None, n_estimators=700, n_jobs=None,\n",
       "             num_parallel_tree=None, random_state=None, ...)"
      ]
     },
     "execution_count": 108,
     "metadata": {},
     "output_type": "execute_result"
    }
   ],
   "source": [
    "model = XGBRegressor(objective='reg:squarederror', **best_params)\n",
    "model.fit(X_train, y_train)"
   ]
  },
  {
   "cell_type": "code",
   "execution_count": 103,
   "id": "dbb3f66f",
   "metadata": {},
   "outputs": [
    {
     "name": "stdout",
     "output_type": "stream",
     "text": [
      "MAE: 3053.143871874103\n",
      "RMSE: 7768.77376550993\n",
      "R2 Score: 0.8555340716474185\n"
     ]
    }
   ],
   "source": [
    "from sklearn.metrics import mean_squared_error, mean_absolute_error, r2_score\n",
    "\n",
    "print(\"MAE:\", mean_absolute_error(y_test, y_pred))\n",
    "print(\"RMSE:\", mean_squared_error(y_test, y_pred, squared=False))\n",
    "print(\"R2 Score:\", r2_score(y_test, y_pred))\n"
   ]
  },
  {
   "cell_type": "code",
   "execution_count": 104,
   "id": "8e98c1bb",
   "metadata": {},
   "outputs": [],
   "source": [
    "# seller_type\n",
    "seller_type_map = {\n",
    "    \"AGENT\": 15778,\n",
    "    \"OWNER\": 5668,\n",
    "    \"BUILDER\": 329\n",
    "}\n",
    "\n",
    "# layout_type\n",
    "layout_type_map = {\n",
    "    \"BHK\": 20791,\n",
    "    \"RK\": 984\n",
    "}\n",
    "\n",
    "# property_type\n",
    "property_type_map = {\n",
    "    \"Apartment\": 19391,\n",
    "    \"Studio Apartment\": 984,\n",
    "    \"Independent House\": 824,\n",
    "    \"Independent Floor\": 306,\n",
    "    \"Villa\": 259,\n",
    "    \"Penthouse\": 11\n",
    "}\n",
    "\n",
    "# locality \n",
    "locality_map = {\"Wagholi\": 2165, \"Hinjewadi\": 1442, \"Wakad\": 1253, \"Kharadi\": 1218, \"Hadapsar\": 1109, \"Bavdhan\": 784, \"Baner\": 735, \"Pimple Saudagar\": 653, \"Wadgaon Sheri\": 558, \"Viman Nagar\": 552, \"Kothrud\": 534, \"Dhanori\": 494, \"Kondhwa\": 466, \"Mundhwa\": 419, \"Lohegaon\": 371, \"Dhayari\": 370, \"Chinchwad\": 368, \"Kalyani Nagar\": 356, \"Balewadi\": 339, \"Undri\": 335, \"Koregaon Park\": 312, \"Wanowrie\": 272, \"Ravet\": 271, \"Aundh\": 254, \"NIBM Annex Mohammadwadi\": 241, \"Rahatani\": 220, \"Akurdi\": 217, \"Pimple Gurav\": 198, \"Yerawada\": 182, \"Bibwewadi\": 168, \"Vadgaon Budruk\": 158, \"Pimple Nilakh\": 151, \"Vishrantwadi\": 150, \"Fursungi\": 147, \"Warje\": 141, \"Thergaon\": 137, \"Karve Nagar\": 135, \"Mahalunge\": 134, \"Katraj\": 132, \"Ambegaon Budruk\": 132, \"Nigdi\": 130, \"Pimpri\": 123, \"Tingre Nagar\": 122, \"Pashan\": 121, \"Chikhali\": 115, \"Moshi\": 111, \"Tathawade\": 109, \"Sus\": 104, \"Gahunje\": 98, \"Dhankawadi Police Station Road\": 96, \"Sopan Baug\": 91, \"Sangamvadi\": 85, \"Manjari\": 84, \"Shivaji Nagar\": 81, \"New Kalyani Nagar\": 81, \"Erandwane\": 76, \"Nanded\": 69, \"Bhugaon\": 67, \"Wanwadi\": 63, \"Handewadi\": 58, \"Mohammed wadi\": 58, \"New Sangavi\": 56, \"Talegaon Dabhade\": 54, \"Bhosari\": 54, \"Manjari Budruk\": 53, \"Chakan\": 50, \"Dighi\": 48, \"Alandi\": 47, \"Magarpatta\": 46, \"Parvati Darshan\": 45, \"NIBM\": 40, \"NIBM Annexe\": 39, \"Shivane\": 34, \"Gultekdi\": 33, \"Kalewadi\": 31, \"Dhayari Phata\": 31, \"Deccan Gymkhana\": 30, \"Old Sangvi\": 30, \"Boat Club Road\": 28, \"Kondhwa Budruk\": 27, \"Bopodi\": 26, \"Ghorpadi\": 26, \"Shukrawar Peth\": 25, \"hingne Khurd\": 25, \"Narhe\": 25, \"Swargate\": 22, \"Punawale\": 22, \"Charholi Budruk\": 22, \"Gokhalenagar\": 21, \"Warje Malwadi\": 21, \"Chandan Nagar\": 21, \"Talwade\": 21, \"Loni Kalbhor\": 20, \"Sadashiv Peth\": 20, \"Somwar Peth\": 19, \"Anand Nagar\": 18, \"Agalambe\": 18, \"Bhegade Aali\": 17, \"Dattavadi\": 16, \"Balaji Nagar\": 16, \"Pune Satara Road\": 16, \"Bhukum\": 15, \"Nigdi Sector 24\": 15, \"Kasarwadi\": 14, \"Pune Station\": 14, \"Pradhikaran Nigdi\": 14, \"Mamurdi\": 13, \"Kothrud Depot Road\": 13, \"Jambhulwadi\": 13, \"Baner Road\": 13, \"Pirangut\": 13, \"Ambegaon Pathar\": 13, \"Senapati Bapat Road\": 13, \"Ganesh Nagar\": 13, \"Bopkhel\": 12, \"Vadgoan Sheri Rajendri Nagar\": 12, \"Sahakar Nagar\": 12, \"Ashok Nagar\": 12, \"Market yard\": 12, \"Lulla Nagar\": 12, \"Kasba Peth\": 12, \"Shaniwar Peth\": 12, \"Daund\": 12, \"Narayan Peth\": 11, \"Rasta Peth\": 11, \"Marunji\": 11, \"Pimpri Chinchwad\": 10, \"Mukund Nagar\": 10, \"maharshi nagar\": 10}\n",
    "\n",
    "\n",
    "# furnish_type\n",
    "furnish_type_map = {\n",
    "    \"Unfurnished\": 9388,\n",
    "    \"Semi-Furnished\": 8441,\n",
    "    \"Furnished\": 3946\n",
    "}\n"
   ]
  },
  {
   "cell_type": "code",
   "execution_count": 105,
   "id": "41ee0964",
   "metadata": {},
   "outputs": [],
   "source": [
    "import numpy as np\n",
    "\n",
    "def prepare_input_for_prediction(seller_type, bedroom, layout_type, property_type, locality, area, furnish_type):\n",
    "    # Convert categorical to their count values\n",
    "    seller_val = seller_type_map.get(seller_type, 0)\n",
    "    layout_val = layout_type_map.get(layout_type, 0)\n",
    "    property_val = property_type_map.get(property_type, 0)\n",
    "    locality_val = locality_map.get(locality, 0)\n",
    "    furnish_val = furnish_type_map.get(furnish_type, 0)\n",
    "    \n",
    "    # Prepare final row\n",
    "    return np.array([[seller_val, bedroom, layout_val, property_val, locality_val, area, furnish_val]])"
   ]
  },
  {
   "cell_type": "code",
   "execution_count": 109,
   "id": "8e28ffcd",
   "metadata": {
    "scrolled": true
   },
   "outputs": [
    {
     "name": "stdout",
     "output_type": "stream",
     "text": [
      "Predicted price: 20622.470703125\n"
     ]
    }
   ],
   "source": [
    "# Prepare the input\n",
    "input_row = prepare_input_for_prediction(\"OWNER\", 1, \"BHK\", \"Apartment\", \"Koregaon Park\", 650, \"Furnished\")\n",
    "\n",
    "# Predict\n",
    "prediction = model.predict(input_row)\n",
    "print(f\"Predicted price: {prediction[0]}\")\n"
   ]
  },
  {
   "cell_type": "code",
   "execution_count": 110,
   "id": "6ba7e2a1",
   "metadata": {},
   "outputs": [
    {
     "name": "stdout",
     "output_type": "stream",
     "text": [
      "Final MAE on test set: 3053.143871874103\n"
     ]
    }
   ],
   "source": [
    "best_params = random_search.best_params_.copy()\n",
    "best_params.pop('objective', None)  # Remove if exists\n",
    "\n",
    "model = XGBRegressor(objective='reg:squarederror', **best_params)\n",
    "model.fit(X_train, y_train)\n",
    "\n",
    "y_pred = model.predict(X_test)\n",
    "\n",
    "from sklearn.metrics import mean_absolute_error\n",
    "mae = mean_absolute_error(y_test, y_pred)\n",
    "print(\"Final MAE on test set:\", mae)"
   ]
  },
  {
   "cell_type": "code",
   "execution_count": 111,
   "id": "9cf1a752",
   "metadata": {},
   "outputs": [
    {
     "data": {
      "text/html": [
       "<div>\n",
       "<style scoped>\n",
       "    .dataframe tbody tr th:only-of-type {\n",
       "        vertical-align: middle;\n",
       "    }\n",
       "\n",
       "    .dataframe tbody tr th {\n",
       "        vertical-align: top;\n",
       "    }\n",
       "\n",
       "    .dataframe thead th {\n",
       "        text-align: right;\n",
       "    }\n",
       "</style>\n",
       "<table border=\"1\" class=\"dataframe\">\n",
       "  <thead>\n",
       "    <tr style=\"text-align: right;\">\n",
       "      <th></th>\n",
       "      <th>seller_type</th>\n",
       "      <th>bedroom</th>\n",
       "      <th>layout_type</th>\n",
       "      <th>property_type</th>\n",
       "      <th>locality</th>\n",
       "      <th>price</th>\n",
       "      <th>area</th>\n",
       "      <th>furnish_type</th>\n",
       "      <th>bathroom</th>\n",
       "    </tr>\n",
       "  </thead>\n",
       "  <tbody>\n",
       "    <tr>\n",
       "      <th>934</th>\n",
       "      <td>AGENT</td>\n",
       "      <td>1</td>\n",
       "      <td>RK</td>\n",
       "      <td>Studio Apartment</td>\n",
       "      <td>Koregaon Park</td>\n",
       "      <td>22,000</td>\n",
       "      <td>600</td>\n",
       "      <td>Semi-Furnished</td>\n",
       "      <td>NaN</td>\n",
       "    </tr>\n",
       "    <tr>\n",
       "      <th>1678</th>\n",
       "      <td>AGENT</td>\n",
       "      <td>1</td>\n",
       "      <td>BHK</td>\n",
       "      <td>Apartment</td>\n",
       "      <td>Koregaon Park</td>\n",
       "      <td>26,000</td>\n",
       "      <td>650</td>\n",
       "      <td>Furnished</td>\n",
       "      <td>1</td>\n",
       "    </tr>\n",
       "    <tr>\n",
       "      <th>1682</th>\n",
       "      <td>AGENT</td>\n",
       "      <td>1</td>\n",
       "      <td>BHK</td>\n",
       "      <td>Apartment</td>\n",
       "      <td>Koregaon Park</td>\n",
       "      <td>24,000</td>\n",
       "      <td>750</td>\n",
       "      <td>Semi-Furnished</td>\n",
       "      <td>1</td>\n",
       "    </tr>\n",
       "    <tr>\n",
       "      <th>1692</th>\n",
       "      <td>AGENT</td>\n",
       "      <td>1</td>\n",
       "      <td>BHK</td>\n",
       "      <td>Apartment</td>\n",
       "      <td>Koregaon Park</td>\n",
       "      <td>26,000</td>\n",
       "      <td>650</td>\n",
       "      <td>Furnished</td>\n",
       "      <td>1</td>\n",
       "    </tr>\n",
       "    <tr>\n",
       "      <th>1702</th>\n",
       "      <td>AGENT</td>\n",
       "      <td>1</td>\n",
       "      <td>BHK</td>\n",
       "      <td>Apartment</td>\n",
       "      <td>Koregaon Park</td>\n",
       "      <td>30,000</td>\n",
       "      <td>850</td>\n",
       "      <td>Furnished</td>\n",
       "      <td>1</td>\n",
       "    </tr>\n",
       "    <tr>\n",
       "      <th>...</th>\n",
       "      <td>...</td>\n",
       "      <td>...</td>\n",
       "      <td>...</td>\n",
       "      <td>...</td>\n",
       "      <td>...</td>\n",
       "      <td>...</td>\n",
       "      <td>...</td>\n",
       "      <td>...</td>\n",
       "      <td>...</td>\n",
       "    </tr>\n",
       "    <tr>\n",
       "      <th>19506</th>\n",
       "      <td>OWNER</td>\n",
       "      <td>1</td>\n",
       "      <td>BHK</td>\n",
       "      <td>Apartment</td>\n",
       "      <td>Koregaon Park</td>\n",
       "      <td>14,000</td>\n",
       "      <td>1000</td>\n",
       "      <td>Furnished</td>\n",
       "      <td>1</td>\n",
       "    </tr>\n",
       "    <tr>\n",
       "      <th>20117</th>\n",
       "      <td>OWNER</td>\n",
       "      <td>1</td>\n",
       "      <td>BHK</td>\n",
       "      <td>Apartment</td>\n",
       "      <td>Koregaon Park</td>\n",
       "      <td>18,150</td>\n",
       "      <td>550</td>\n",
       "      <td>Semi-Furnished</td>\n",
       "      <td>1</td>\n",
       "    </tr>\n",
       "    <tr>\n",
       "      <th>20118</th>\n",
       "      <td>OWNER</td>\n",
       "      <td>1</td>\n",
       "      <td>BHK</td>\n",
       "      <td>Apartment</td>\n",
       "      <td>Koregaon Park</td>\n",
       "      <td>19,000</td>\n",
       "      <td>550</td>\n",
       "      <td>Semi-Furnished</td>\n",
       "      <td>1</td>\n",
       "    </tr>\n",
       "    <tr>\n",
       "      <th>20752</th>\n",
       "      <td>OWNER</td>\n",
       "      <td>1</td>\n",
       "      <td>BHK</td>\n",
       "      <td>Apartment</td>\n",
       "      <td>Koregaon Park</td>\n",
       "      <td>14,000</td>\n",
       "      <td>1000</td>\n",
       "      <td>Furnished</td>\n",
       "      <td>1</td>\n",
       "    </tr>\n",
       "    <tr>\n",
       "      <th>21207</th>\n",
       "      <td>OWNER</td>\n",
       "      <td>1</td>\n",
       "      <td>BHK</td>\n",
       "      <td>Apartment</td>\n",
       "      <td>Koregaon Park</td>\n",
       "      <td>19,000</td>\n",
       "      <td>550</td>\n",
       "      <td>Semi-Furnished</td>\n",
       "      <td>1</td>\n",
       "    </tr>\n",
       "  </tbody>\n",
       "</table>\n",
       "<p>70 rows × 9 columns</p>\n",
       "</div>"
      ],
      "text/plain": [
       "      seller_type  bedroom layout_type     property_type       locality  \\\n",
       "934         AGENT        1          RK  Studio Apartment  Koregaon Park   \n",
       "1678        AGENT        1         BHK         Apartment  Koregaon Park   \n",
       "1682        AGENT        1         BHK         Apartment  Koregaon Park   \n",
       "1692        AGENT        1         BHK         Apartment  Koregaon Park   \n",
       "1702        AGENT        1         BHK         Apartment  Koregaon Park   \n",
       "...           ...      ...         ...               ...            ...   \n",
       "19506       OWNER        1         BHK         Apartment  Koregaon Park   \n",
       "20117       OWNER        1         BHK         Apartment  Koregaon Park   \n",
       "20118       OWNER        1         BHK         Apartment  Koregaon Park   \n",
       "20752       OWNER        1         BHK         Apartment  Koregaon Park   \n",
       "21207       OWNER        1         BHK         Apartment  Koregaon Park   \n",
       "\n",
       "        price  area    furnish_type bathroom  \n",
       "934    22,000   600  Semi-Furnished      NaN  \n",
       "1678   26,000   650       Furnished        1  \n",
       "1682   24,000   750  Semi-Furnished        1  \n",
       "1692   26,000   650       Furnished        1  \n",
       "1702   30,000   850       Furnished        1  \n",
       "...       ...   ...             ...      ...  \n",
       "19506  14,000  1000       Furnished        1  \n",
       "20117  18,150   550  Semi-Furnished        1  \n",
       "20118  19,000   550  Semi-Furnished        1  \n",
       "20752  14,000  1000       Furnished        1  \n",
       "21207  19,000   550  Semi-Furnished        1  \n",
       "\n",
       "[70 rows x 9 columns]"
      ]
     },
     "execution_count": 111,
     "metadata": {},
     "output_type": "execute_result"
    }
   ],
   "source": [
    "df[(df[\"locality\"] == \"Koregaon Park\") & (df[\"bedroom\"] == 1)]"
   ]
  },
  {
   "cell_type": "code",
   "execution_count": 112,
   "id": "317b5e02",
   "metadata": {},
   "outputs": [
    {
     "data": {
      "text/html": [
       "<div>\n",
       "<style scoped>\n",
       "    .dataframe tbody tr th:only-of-type {\n",
       "        vertical-align: middle;\n",
       "    }\n",
       "\n",
       "    .dataframe tbody tr th {\n",
       "        vertical-align: top;\n",
       "    }\n",
       "\n",
       "    .dataframe thead th {\n",
       "        text-align: right;\n",
       "    }\n",
       "</style>\n",
       "<table border=\"1\" class=\"dataframe\">\n",
       "  <thead>\n",
       "    <tr style=\"text-align: right;\">\n",
       "      <th></th>\n",
       "      <th>seller_type</th>\n",
       "      <th>bedroom</th>\n",
       "      <th>layout_type</th>\n",
       "      <th>property_type</th>\n",
       "      <th>locality</th>\n",
       "      <th>price</th>\n",
       "      <th>area</th>\n",
       "      <th>furnish_type</th>\n",
       "      <th>bathroom</th>\n",
       "    </tr>\n",
       "  </thead>\n",
       "  <tbody>\n",
       "    <tr>\n",
       "      <th>934</th>\n",
       "      <td>AGENT</td>\n",
       "      <td>1</td>\n",
       "      <td>RK</td>\n",
       "      <td>Studio Apartment</td>\n",
       "      <td>Koregaon Park</td>\n",
       "      <td>22,000</td>\n",
       "      <td>600</td>\n",
       "      <td>Semi-Furnished</td>\n",
       "      <td>NaN</td>\n",
       "    </tr>\n",
       "    <tr>\n",
       "      <th>1565</th>\n",
       "      <td>AGENT</td>\n",
       "      <td>4</td>\n",
       "      <td>BHK</td>\n",
       "      <td>Apartment</td>\n",
       "      <td>Koregaon Park</td>\n",
       "      <td>1.75</td>\n",
       "      <td>4000</td>\n",
       "      <td>Unfurnished</td>\n",
       "      <td>4</td>\n",
       "    </tr>\n",
       "    <tr>\n",
       "      <th>1566</th>\n",
       "      <td>AGENT</td>\n",
       "      <td>4</td>\n",
       "      <td>BHK</td>\n",
       "      <td>Apartment</td>\n",
       "      <td>Koregaon Park</td>\n",
       "      <td>1.2</td>\n",
       "      <td>2615</td>\n",
       "      <td>Semi-Furnished</td>\n",
       "      <td>4</td>\n",
       "    </tr>\n",
       "    <tr>\n",
       "      <th>1672</th>\n",
       "      <td>AGENT</td>\n",
       "      <td>2</td>\n",
       "      <td>BHK</td>\n",
       "      <td>Apartment</td>\n",
       "      <td>Koregaon Park</td>\n",
       "      <td>27,000</td>\n",
       "      <td>1200</td>\n",
       "      <td>Furnished</td>\n",
       "      <td>2</td>\n",
       "    </tr>\n",
       "    <tr>\n",
       "      <th>1673</th>\n",
       "      <td>AGENT</td>\n",
       "      <td>2</td>\n",
       "      <td>BHK</td>\n",
       "      <td>Apartment</td>\n",
       "      <td>Koregaon Park</td>\n",
       "      <td>30,000</td>\n",
       "      <td>1200</td>\n",
       "      <td>Semi-Furnished</td>\n",
       "      <td>2</td>\n",
       "    </tr>\n",
       "    <tr>\n",
       "      <th>...</th>\n",
       "      <td>...</td>\n",
       "      <td>...</td>\n",
       "      <td>...</td>\n",
       "      <td>...</td>\n",
       "      <td>...</td>\n",
       "      <td>...</td>\n",
       "      <td>...</td>\n",
       "      <td>...</td>\n",
       "      <td>...</td>\n",
       "    </tr>\n",
       "    <tr>\n",
       "      <th>22014</th>\n",
       "      <td>OWNER</td>\n",
       "      <td>2</td>\n",
       "      <td>BHK</td>\n",
       "      <td>Apartment</td>\n",
       "      <td>Koregaon Park</td>\n",
       "      <td>30,000</td>\n",
       "      <td>900</td>\n",
       "      <td>Furnished</td>\n",
       "      <td>1</td>\n",
       "    </tr>\n",
       "    <tr>\n",
       "      <th>22542</th>\n",
       "      <td>OWNER</td>\n",
       "      <td>4</td>\n",
       "      <td>BHK</td>\n",
       "      <td>Independent House</td>\n",
       "      <td>Koregaon Park</td>\n",
       "      <td>1.5</td>\n",
       "      <td>1100</td>\n",
       "      <td>Semi-Furnished</td>\n",
       "      <td>4</td>\n",
       "    </tr>\n",
       "    <tr>\n",
       "      <th>22630</th>\n",
       "      <td>OWNER</td>\n",
       "      <td>2</td>\n",
       "      <td>BHK</td>\n",
       "      <td>Apartment</td>\n",
       "      <td>Koregaon Park</td>\n",
       "      <td>34,000</td>\n",
       "      <td>990</td>\n",
       "      <td>Furnished</td>\n",
       "      <td>2</td>\n",
       "    </tr>\n",
       "    <tr>\n",
       "      <th>22641</th>\n",
       "      <td>OWNER</td>\n",
       "      <td>4</td>\n",
       "      <td>BHK</td>\n",
       "      <td>Independent House</td>\n",
       "      <td>Koregaon Park</td>\n",
       "      <td>1.5</td>\n",
       "      <td>1100</td>\n",
       "      <td>Semi-Furnished</td>\n",
       "      <td>4</td>\n",
       "    </tr>\n",
       "    <tr>\n",
       "      <th>22677</th>\n",
       "      <td>OWNER</td>\n",
       "      <td>3</td>\n",
       "      <td>BHK</td>\n",
       "      <td>Apartment</td>\n",
       "      <td>Koregaon Park</td>\n",
       "      <td>33,000</td>\n",
       "      <td>1300</td>\n",
       "      <td>Semi-Furnished</td>\n",
       "      <td>3</td>\n",
       "    </tr>\n",
       "  </tbody>\n",
       "</table>\n",
       "<p>313 rows × 9 columns</p>\n",
       "</div>"
      ],
      "text/plain": [
       "      seller_type  bedroom layout_type      property_type       locality  \\\n",
       "934         AGENT        1          RK   Studio Apartment  Koregaon Park   \n",
       "1565        AGENT        4         BHK          Apartment  Koregaon Park   \n",
       "1566        AGENT        4         BHK          Apartment  Koregaon Park   \n",
       "1672        AGENT        2         BHK          Apartment  Koregaon Park   \n",
       "1673        AGENT        2         BHK          Apartment  Koregaon Park   \n",
       "...           ...      ...         ...                ...            ...   \n",
       "22014       OWNER        2         BHK          Apartment  Koregaon Park   \n",
       "22542       OWNER        4         BHK  Independent House  Koregaon Park   \n",
       "22630       OWNER        2         BHK          Apartment  Koregaon Park   \n",
       "22641       OWNER        4         BHK  Independent House  Koregaon Park   \n",
       "22677       OWNER        3         BHK          Apartment  Koregaon Park   \n",
       "\n",
       "        price  area    furnish_type bathroom  \n",
       "934    22,000   600  Semi-Furnished      NaN  \n",
       "1565     1.75  4000     Unfurnished        4  \n",
       "1566      1.2  2615  Semi-Furnished        4  \n",
       "1672   27,000  1200       Furnished        2  \n",
       "1673   30,000  1200  Semi-Furnished        2  \n",
       "...       ...   ...             ...      ...  \n",
       "22014  30,000   900       Furnished        1  \n",
       "22542     1.5  1100  Semi-Furnished        4  \n",
       "22630  34,000   990       Furnished        2  \n",
       "22641     1.5  1100  Semi-Furnished        4  \n",
       "22677  33,000  1300  Semi-Furnished        3  \n",
       "\n",
       "[313 rows x 9 columns]"
      ]
     },
     "execution_count": 112,
     "metadata": {},
     "output_type": "execute_result"
    }
   ],
   "source": [
    "df[df[\"locality\"] == \"Koregaon Park\"]"
   ]
  },
  {
   "cell_type": "code",
   "execution_count": null,
   "id": "a7efa81a",
   "metadata": {},
   "outputs": [],
   "source": []
  },
  {
   "cell_type": "code",
   "execution_count": null,
   "id": "0e0660a8",
   "metadata": {},
   "outputs": [],
   "source": [
    "\n"
   ]
  },
  {
   "cell_type": "code",
   "execution_count": null,
   "id": "4fbf2837",
   "metadata": {},
   "outputs": [],
   "source": [
    "\n"
   ]
  },
  {
   "cell_type": "code",
   "execution_count": null,
   "id": "46571805",
   "metadata": {},
   "outputs": [],
   "source": []
  }
 ],
 "metadata": {
  "kernelspec": {
   "display_name": "Python 3 (ipykernel)",
   "language": "python",
   "name": "python3"
  },
  "language_info": {
   "codemirror_mode": {
    "name": "ipython",
    "version": 3
   },
   "file_extension": ".py",
   "mimetype": "text/x-python",
   "name": "python",
   "nbconvert_exporter": "python",
   "pygments_lexer": "ipython3",
   "version": "3.8.17"
  }
 },
 "nbformat": 4,
 "nbformat_minor": 5
}
